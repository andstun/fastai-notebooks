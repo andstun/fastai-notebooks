{
  "nbformat": 4,
  "nbformat_minor": 0,
  "metadata": {
    "colab": {
      "name": "keras_lesson1_updated.ipynb",
      "version": "0.3.2",
      "provenance": [],
      "include_colab_link": true
    },
    "kernelspec": {
      "display_name": "Python 3",
      "language": "python",
      "name": "python3"
    },
    "accelerator": "GPU"
  },
  "cells": [
    {
      "cell_type": "markdown",
      "metadata": {
        "id": "view-in-github",
        "colab_type": "text"
      },
      "source": [
        "[View in Colaboratory](https://colab.research.google.com/github/margaretmz/fastai-notebooks/blob/master/keras_lesson1_updated.ipynb)"
      ]
    },
    {
      "metadata": {
        "id": "jxWEhzGi9lFK",
        "colab_type": "text"
      },
      "cell_type": "markdown",
      "source": [
        "# Introduction to our first task: 'Dogs vs Cats'\n",
        "**Updated by Margaret Maynard-Reid 7/18/2018**\n",
        "\n",
        "Original source code from the fast.ai repo [here](https://github.com/fastai/fastai/blob/master/courses/dl1/keras_lesson1.ipynb).\n",
        "\n",
        "I have updated the notebook with the following:\n",
        "\n",
        "* added data download code to make it work in codelab\n",
        "* install the latest tensorflow version (v1.9.0)\n",
        "* use tf.Keras which is part of the Tensorflow core API\n",
        "* added comments to better explain the code"
      ]
    },
    {
      "metadata": {
        "id": "1_sAFyFZ9lFL",
        "colab_type": "code",
        "colab": {}
      },
      "cell_type": "code",
      "source": [
        "# Make sure we are using the lastest version of TensorFlow\n",
        "!pip install -q -U tensorflow>=1.9.0 \n",
        "%reload_ext autoreload\n",
        "%autoreload 2\n",
        "%matplotlib inline"
      ],
      "execution_count": 0,
      "outputs": []
    },
    {
      "metadata": {
        "id": "JDSfYdAE-foU",
        "colab_type": "code",
        "colab": {
          "base_uri": "https://localhost:8080/",
          "height": 35
        },
        "outputId": "22fe5aa2-f84d-4aee-bb41-ff0da8d30fb3"
      },
      "cell_type": "code",
      "source": [
        "# This line is needed only if using Colab - download the dogs cats datasets\n",
        "!mkdir data && wget http://files.fast.ai/data/dogscats.zip && unzip dogscats.zip -d data/"
      ],
      "execution_count": 0,
      "outputs": [
        {
          "output_type": "stream",
          "text": [
            "mkdir: cannot create directory ‘data’: File exists\r\n"
          ],
          "name": "stdout"
        }
      ]
    },
    {
      "metadata": {
        "id": "mDJRjdUl9lFP",
        "colab_type": "code",
        "colab": {}
      },
      "cell_type": "code",
      "source": [
        "# Path where data is stored\n",
        "PATH = \"data/dogscats/\"\n",
        "# Image size\n",
        "sz=224\n",
        "# Batch size\n",
        "batch_size=64"
      ],
      "execution_count": 0,
      "outputs": []
    },
    {
      "metadata": {
        "id": "Z7JsEW209lFS",
        "colab_type": "code",
        "colab": {
          "base_uri": "https://localhost:8080/",
          "height": 35
        },
        "outputId": "3f2efb7d-d5a7-40c5-eb3e-bdcd97f9710d"
      },
      "cell_type": "code",
      "source": [
        "import numpy as np\n",
        "import tensorflow as tf\n",
        "from tensorflow import keras # Margaret: we are using the keras module from TensorFlow core API\n",
        "\n",
        "print(\"TensorFlow verion is \", tf.__version__)\n",
        "# from keras.preprocessing.image import ImageDataGenerator\n",
        "# from keras.preprocessing import image\n",
        "# from keras.layers import Dropout, Flatten, Dense\n",
        "# from keras.applications import ResNet50\n",
        "# from keras.models import Model, Sequential\n",
        "# from keras.layers import Dense, GlobalAveragePooling2D\n",
        "# from keras import backend as K\n",
        "# from keras.applications.resnet50 import preprocess_input"
      ],
      "execution_count": 34,
      "outputs": [
        {
          "output_type": "stream",
          "text": [
            "TensorFlow verion is  1.9.0\n"
          ],
          "name": "stdout"
        }
      ]
    },
    {
      "metadata": {
        "id": "nx83zhUq9lFY",
        "colab_type": "code",
        "colab": {}
      },
      "cell_type": "code",
      "source": [
        "# Directory with training data\n",
        "train_data_dir = f'{PATH}train'\n",
        "\n",
        "# Directory with validation data\n",
        "validation_data_dir = f'{PATH}valid'"
      ],
      "execution_count": 0,
      "outputs": []
    },
    {
      "metadata": {
        "id": "YsscC2leHhxs",
        "colab_type": "text"
      },
      "cell_type": "markdown",
      "source": [
        "## Data Augumentation"
      ]
    },
    {
      "metadata": {
        "id": "fzMjXH4d9lFb",
        "colab_type": "code",
        "colab": {
          "base_uri": "https://localhost:8080/",
          "height": 52
        },
        "outputId": "20d2c05c-fd35-466a-fc19-034117bac4f7"
      },
      "cell_type": "code",
      "source": [
        "train_datagen = keras.preprocessing.image.ImageDataGenerator(preprocessing_function=preprocess_input,\n",
        "                                                             shear_range=0.2, \n",
        "                                                             zoom_range=0.2, \n",
        "                                                             horizontal_flip=True)\n",
        "\n",
        "test_datagen = keras.preprocessing.image.ImageDataGenerator(preprocessing_function=preprocess_input)\n",
        "\n",
        "train_generator = train_datagen.flow_from_directory(train_data_dir,\n",
        "                                                    target_size=(sz, sz),\n",
        "                                                    batch_size=batch_size, \n",
        "                                                    class_mode='binary')\n",
        "\n",
        "validation_generator = test_datagen.flow_from_directory(validation_data_dir,\n",
        "                                                        shuffle=False,\n",
        "                                                        target_size=(sz, sz),\n",
        "                                                        batch_size=batch_size, class_mode='binary')"
      ],
      "execution_count": 0,
      "outputs": [
        {
          "output_type": "stream",
          "text": [
            "Found 23000 images belonging to 2 classes.\n",
            "Found 2000 images belonging to 2 classes.\n"
          ],
          "name": "stdout"
        }
      ]
    },
    {
      "metadata": {
        "id": "fQGI_K-iHno5",
        "colab_type": "text"
      },
      "cell_type": "markdown",
      "source": [
        "## Transfer learning"
      ]
    },
    {
      "metadata": {
        "id": "-ws47D79ub41",
        "colab_type": "text"
      },
      "cell_type": "markdown",
      "source": [
        "### Train only the last layer"
      ]
    },
    {
      "metadata": {
        "id": "fIGLcosj9lFf",
        "colab_type": "code",
        "colab": {
          "base_uri": "https://localhost:8080/",
          "height": 35
        },
        "outputId": "2454dab7-0716-40a9-9d79-63cc552c39fa"
      },
      "cell_type": "code",
      "source": [
        "# Define the base model from ResNet50\n",
        "base_model = tf.keras.applications.ResNet50(weights='imagenet', \n",
        "                      include_top=False)\n",
        "# Take a look at the base model architecture\n",
        "# base_model.summary()\n",
        "\n",
        "print(\"Number of layers in the base model: \", len(base_model.layers))"
      ],
      "execution_count": 0,
      "outputs": [
        {
          "output_type": "stream",
          "text": [
            "Number of layers in the base model:  174\n"
          ],
          "name": "stdout"
        }
      ]
    },
    {
      "metadata": {
        "id": "ezIm7iIus3uV",
        "colab_type": "code",
        "colab": {}
      },
      "cell_type": "code",
      "source": [
        "# Let's take a look at the output of the base model\n",
        "x = base_model.output\n",
        "\n",
        "# Apply Global Average Pooling\n",
        "x = keras.layers.GlobalAveragePooling2D()(x)\n",
        "\n",
        "# Add a dense layer\n",
        "x = keras.layers.Dense(1024, activation='relu')(x)\n",
        "\n",
        "# Define the final output layer\n",
        "predictions = keras.layers.Dense(1, activation='sigmoid')(x)"
      ],
      "execution_count": 0,
      "outputs": []
    },
    {
      "metadata": {
        "id": "ZNjMK_cF9lFh",
        "colab_type": "code",
        "colab": {}
      },
      "cell_type": "code",
      "source": [
        "# Instantiate the model given the inputs and outputs\n",
        "model = keras.models.Model(inputs=base_model.input, outputs=predictions)\n",
        "\n",
        "# Freeze all layers in the base model\n",
        "for layer in base_model.layers: layer.trainable = False\n",
        "  \n",
        "model.compile(optimizer='rmsprop', loss='binary_crossentropy', metrics=['accuracy'])"
      ],
      "execution_count": 0,
      "outputs": []
    },
    {
      "metadata": {
        "id": "b7NR6EG59lFj",
        "colab_type": "code",
        "colab": {
          "base_uri": "https://localhost:8080/",
          "height": 193
        },
        "outputId": "6b55d3bf-d5cb-4fb6-c2b9-eb6b73c33ad2"
      },
      "cell_type": "code",
      "source": [
        "%%time\n",
        "model.fit_generator(train_generator, train_generator.n // batch_size, epochs=3, workers=4,\n",
        "        validation_data=validation_generator, validation_steps=validation_generator.n // batch_size)"
      ],
      "execution_count": 0,
      "outputs": [
        {
          "output_type": "stream",
          "text": [
            "Epoch 1/3\n",
            "359/359 [==============================] - 366s 1s/step - loss: 0.0658 - acc: 0.9778 - val_loss: 0.1683 - val_acc: 0.9783\n",
            "Epoch 2/3\n",
            "301/359 [========================>.....] - ETA: 56s - loss: 0.0427 - acc: 0.9862"
          ],
          "name": "stdout"
        },
        {
          "output_type": "stream",
          "text": [
            "359/359 [==============================] - 361s 1s/step - loss: 0.0409 - acc: 0.9863 - val_loss: 0.1002 - val_acc: 0.9839\n",
            "Epoch 3/3\n",
            "359/359 [==============================] - 361s 1s/step - loss: 0.0313 - acc: 0.9899 - val_loss: 0.0590 - val_acc: 0.9869\n",
            "CPU times: user 34min, sys: 1min 4s, total: 35min 4s\n",
            "Wall time: 18min 8s\n"
          ],
          "name": "stdout"
        },
        {
          "output_type": "execute_result",
          "data": {
            "text/plain": [
              "<tensorflow.python.keras.callbacks.History at 0x7f17a5d50710>"
            ]
          },
          "metadata": {
            "tags": []
          },
          "execution_count": 78
        }
      ]
    },
    {
      "metadata": {
        "id": "uSYogRdwH1ud",
        "colab_type": "text"
      },
      "cell_type": "markdown",
      "source": [
        "### Train more of the later layers"
      ]
    },
    {
      "metadata": {
        "id": "GuhCevbe9lFm",
        "colab_type": "code",
        "colab": {}
      },
      "cell_type": "code",
      "source": [
        "split_at = 170\n",
        "# Freeze all the layers before split_at\n",
        "for layer in model.layers[:split_at]: layer.trainable = False\n",
        "  \n",
        "# Unfreeze all the layers after aplit_at\n",
        "for layer in model.layers[split_at:]: layer.trainable = True\n",
        "  \n",
        "# Compile the model\n",
        "model.compile(optimizer='rmsprop', loss='binary_crossentropy', metrics=['accuracy'])    "
      ],
      "execution_count": 0,
      "outputs": []
    },
    {
      "metadata": {
        "id": "QXGzqLWo9lFo",
        "colab_type": "code",
        "colab": {
          "base_uri": "https://localhost:8080/",
          "height": 104
        },
        "outputId": "01474546-8af1-47ac-e83b-ac8ff0baaf51"
      },
      "cell_type": "code",
      "source": [
        "%%time\n",
        "model.fit_generator(train_generator, train_generator.n // batch_size, epochs=1, workers=3,\n",
        "        validation_data=validation_generator, validation_steps=validation_generator.n // batch_size)"
      ],
      "execution_count": 0,
      "outputs": [
        {
          "output_type": "stream",
          "text": [
            "Epoch 1/1\n",
            "359/359 [==============================] - 348s 970ms/step - loss: 0.0148 - acc: 0.9957 - val_loss: 0.0681 - val_acc: 0.9879\n",
            "CPU times: user 10min 46s, sys: 20.2 s, total: 11min 6s\n",
            "Wall time: 5min 48s\n"
          ],
          "name": "stdout"
        },
        {
          "output_type": "execute_result",
          "data": {
            "text/plain": [
              "<tensorflow.python.keras.callbacks.History at 0x7f17a586b358>"
            ]
          },
          "metadata": {
            "tags": []
          },
          "execution_count": 84
        }
      ]
    },
    {
      "metadata": {
        "id": "8Yjq6qO99lFs",
        "colab_type": "code",
        "colab": {}
      },
      "cell_type": "code",
      "source": [
        ""
      ],
      "execution_count": 0,
      "outputs": []
    }
  ]
}